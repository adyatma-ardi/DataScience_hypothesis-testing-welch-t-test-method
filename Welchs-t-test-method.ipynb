{
 "cells": [
  {
   "cell_type": "code",
   "execution_count": 2,
   "metadata": {},
   "outputs": [],
   "source": [
    "import numpy as np\n",
    "from scipy.stats import ttest_ind"
   ]
  },
  {
   "cell_type": "code",
   "execution_count": 4,
   "metadata": {},
   "outputs": [],
   "source": [
    "# menyiapkan data \n",
    "male_scores = np.array([85, 79, 91, 78, 88])\n",
    "female_scores = np.array([92, 95, 89, 93, 87])"
   ]
  },
  {
   "cell_type": "code",
   "execution_count": 6,
   "metadata": {},
   "outputs": [
    {
     "name": "stdout",
     "output_type": "stream",
     "text": [
      "variance of male scores : 25.36\n",
      "variance of female scores : 8.16\n"
     ]
    }
   ],
   "source": [
    "# mencari tahu nilai varian\n",
    "var_male = np.var(male_scores)\n",
    "var_female = np.var(female_scores)\n",
    "\n",
    "print('variance of male scores :', var_male)\n",
    "print('variance of female scores :', var_female)"
   ]
  },
  {
   "cell_type": "code",
   "execution_count": 7,
   "metadata": {},
   "outputs": [],
   "source": [
    "# melakukan Welch's t-test\n",
    "t_stat, p_value = ttest_ind(male_scores, female_scores, equal_var=False)"
   ]
  },
  {
   "cell_type": "code",
   "execution_count": 9,
   "metadata": {},
   "outputs": [
    {
     "name": "stdout",
     "output_type": "stream",
     "text": [
      "T-statistik : -2.4181098754871337\n",
      "Nilai P-value : 0.04985907838945243\n"
     ]
    }
   ],
   "source": [
    "# menampilkan hasil t-test\n",
    "print(\"T-statistik :\", t_stat)\n",
    "print(\"Nilai P-value :\", p_value)"
   ]
  },
  {
   "cell_type": "code",
   "execution_count": 10,
   "metadata": {},
   "outputs": [
    {
     "name": "stdout",
     "output_type": "stream",
     "text": [
      "ada perbedaan yang signifikan antara rata - rata skor ujian matematika antara kedua kelompok siswa\n"
     ]
    }
   ],
   "source": [
    "alpha = 0.05 # tingkat signifikasi 0.05\n",
    "\n",
    "if p_value < alpha: \n",
    "    print(\"ada perbedaan yang signifikan antara rata - rata skor ujian matematika antara kedua kelompok siswa\")\n",
    "else:\n",
    "    print(\"tidak dapat menyimpulkan adanya perbedaan yang signifikan\")"
   ]
  },
  {
   "cell_type": "code",
   "execution_count": null,
   "metadata": {},
   "outputs": [],
   "source": []
  }
 ],
 "metadata": {
  "kernelspec": {
   "display_name": "Python 3",
   "language": "python",
   "name": "python3"
  },
  "language_info": {
   "codemirror_mode": {
    "name": "ipython",
    "version": 3
   },
   "file_extension": ".py",
   "mimetype": "text/x-python",
   "name": "python",
   "nbconvert_exporter": "python",
   "pygments_lexer": "ipython3",
   "version": "3.10.6"
  },
  "orig_nbformat": 4
 },
 "nbformat": 4,
 "nbformat_minor": 2
}
